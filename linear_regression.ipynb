{
 "cells": [
  {
   "cell_type": "markdown",
   "metadata": {},
   "source": [
    "Note that the contents in this assigment and the following assignments are heavily inspired from the amazing machine learning course presented at Stanford by Andrew Ng.\n",
    "\n",
    "However, here in this series assignments for our machine learning course, we have used **Python** language which we think is much more suitable than Matlab for artificial intelligence students. Also we have changed and modified some parts of the assignments and the related descriptions for those parts."
   ]
  },
  {
   "cell_type": "markdown",
   "metadata": {},
   "source": [
    "## Linear Regression"
   ]
  },
  {
   "cell_type": "markdown",
   "metadata": {},
   "source": [
    "First, let us import two useful python library which we will use through this assinment.\n",
    "- The first library is `numpy` to work with N-dimensional arrays.\n",
    "- The second library is `matplotlib` for plotting."
   ]
  },
  {
   "cell_type": "code",
   "execution_count": 153,
   "metadata": {},
   "outputs": [],
   "source": [
    "%matplotlib inline\n",
    "\n",
    "import numpy as np\n",
    "import matplotlib.pyplot as plt\n",
    "from mpl_toolkits.mplot3d import Axes3D\n",
    "\n",
    "# setup for printing numpy arrays\n",
    "np.set_printoptions(precision=2)\n",
    "\n",
    "from sklearn.linear_model import LinearRegression"
   ]
  },
  {
   "cell_type": "markdown",
   "metadata": {},
   "source": [
    "## Part 0: Warm up!"
   ]
  },
  {
   "cell_type": "markdown",
   "metadata": {},
   "source": [
    "In this part, you will write a very simple function in python which creates and prints a 5-by-5 identity matrix. Complete the definition of the following function, by adding `A = np.eye(5)` to it."
   ]
  },
  {
   "cell_type": "code",
   "execution_count": 2,
   "metadata": {},
   "outputs": [],
   "source": [
    "def warm_up():\n",
    "    ### your code here ###\n",
    "    A = np.eye(5)\n",
    "    print(A)\n"
   ]
  },
  {
   "cell_type": "markdown",
   "metadata": {},
   "source": [
    "Now that you have defined this function, you can call it by executing the following cell. After running this cell, you should see something like this:\n",
    "```python\n",
    "[[1. 0. 0. 0. 0.]\n",
    " [0. 1. 0. 0. 0.]\n",
    " [0. 0. 1. 0. 0.]\n",
    " [0. 0. 0. 1. 0.]\n",
    " [0. 0. 0. 0. 1.]]\n",
    "```\n",
    "\n",
    "Recall: To run a cell, you can use `<Shift> + <Enter>` or `<Ctrl> + <Enter>`. "
   ]
  },
  {
   "cell_type": "code",
   "execution_count": 3,
   "metadata": {},
   "outputs": [
    {
     "name": "stdout",
     "output_type": "stream",
     "text": [
      "[[1. 0. 0. 0. 0.]\n",
      " [0. 1. 0. 0. 0.]\n",
      " [0. 0. 1. 0. 0.]\n",
      " [0. 0. 0. 1. 0.]\n",
      " [0. 0. 0. 0. 1.]]\n"
     ]
    }
   ],
   "source": [
    "warm_up()"
   ]
  },
  {
   "cell_type": "markdown",
   "metadata": {},
   "source": [
    "## Part 1: Linear regression with one variable"
   ]
  },
  {
   "cell_type": "markdown",
   "metadata": {},
   "source": [
    "In this part, your task is to implement linear regression with one variable to predict profits for a food truck.\n",
    "\n",
    "Suppose you are the CEO of a restaurant franchise and are considering different cities for opening a new outlet. The chain already has trucks in various cities and you have data for profits and populations from the cities. You would like to use this data to help you select which city to expand to next."
   ]
  },
  {
   "cell_type": "markdown",
   "metadata": {},
   "source": [
    "<img src='imgs/restaurant_dataset.png' width='50%'/>"
   ]
  },
  {
   "cell_type": "markdown",
   "metadata": {},
   "source": [
    "The file `data/ex1data1.txt` contains the dataset for our linear regression problem. The first column is the `population` of a city and the second column is the `profit` of a food truck in that city. A negative value for profit indicates a loss."
   ]
  },
  {
   "cell_type": "markdown",
   "metadata": {},
   "source": [
    "### Loading data"
   ]
  },
  {
   "cell_type": "markdown",
   "metadata": {},
   "source": [
    "The function `load_data()` has already been set up to load this data for you. It recieves the file name which contains the data (in this case `data/ex1data1.txt`) and returns `X` and `y` as 2D matrices."
   ]
  },
  {
   "cell_type": "code",
   "execution_count": 4,
   "metadata": {},
   "outputs": [],
   "source": [
    "def load_data(fname):\n",
    "    data = np.genfromtxt(fname, delimiter=',')\n",
    "    X = data[:, 0].reshape(-1, 1)  # Get the 1st column and convert it to a 2d matrix\n",
    "    y = data[:, 1].reshape(-1, 1)  # Get the 2nd column and convert it to a 2d matrix\n",
    "    return X, y"
   ]
  },
  {
   "cell_type": "code",
   "execution_count": 5,
   "metadata": {},
   "outputs": [
    {
     "name": "stdout",
     "output_type": "stream",
     "text": [
      "(97, 1)\n",
      "(97, 1)\n"
     ]
    }
   ],
   "source": [
    "X, y = load_data(fname='data/ex1data1.txt')\n",
    "\n",
    "print(X.shape)\n",
    "print(y.shape)"
   ]
  },
  {
   "cell_type": "markdown",
   "metadata": {},
   "source": [
    "A more general implementation of this function is given here. This implementation works for any number of columns in the text file which are separated by commas (This is useful for the next part of this assignment, when we deal with linear regression with multiple variables). \n",
    "\n",
    "Here we assume that the first columns of the text file are the input features and the last column is the target value which we are going to predict. Be sure that you understand how we have separated the columns and stored them in `X` and `y`."
   ]
  },
  {
   "cell_type": "code",
   "execution_count": 16,
   "metadata": {},
   "outputs": [],
   "source": [
    "def load_data(fname):\n",
    "    data = np.genfromtxt(fname, delimiter=',')\n",
    "    n = data.shape[1] - 1            # number of features\n",
    "    X = data[:, :-1].reshape(-1, n)  # Get all but the last column and convert to a 2d array\n",
    "    y = data[:,  -1].reshape(-1, 1)  # Get the last column and convert to a 2d array\n",
    "    return X, y"
   ]
  },
  {
   "cell_type": "code",
   "execution_count": 17,
   "metadata": {},
   "outputs": [
    {
     "name": "stdout",
     "output_type": "stream",
     "text": [
      "(97, 1)\n",
      "(97, 1)\n"
     ]
    }
   ],
   "source": [
    "X, y = load_data(fname='data/ex1data1.txt')\n",
    "\n",
    "print(X.shape)\n",
    "print(y.shape)\n",
    "# X"
   ]
  },
  {
   "cell_type": "markdown",
   "metadata": {},
   "source": [
    "### Plotting data"
   ]
  },
  {
   "cell_type": "markdown",
   "metadata": {},
   "source": [
    "Before starting on any task, it is often useful to understand the data by visualizing it. For this dataset, you can use a scatter plot to visualize the data, since it has only two properties to plot (`profit` and `population`). (Many other problems that you will encounter in real life are multi-dimensional and can’t be plotted on a 2-d plot.) "
   ]
  },
  {
   "cell_type": "code",
   "execution_count": 8,
   "metadata": {},
   "outputs": [],
   "source": [
    "def plot_data(X, y):\n",
    "    plt.figure(figsize=(12, 8), dpi=120)\n",
    "    plt.scatter(X, y, s=20, c='r', marker='x', alpha=0.5)## s is for marker size and is scaler or array of the same length as x and y. \n",
    "    plt.xlabel('Population of city in 10,000')\n",
    "    plt.ylabel('Profit in $10,000s')   \n",
    "    plt.title('Profit vs. Population')"
   ]
  },
  {
   "cell_type": "markdown",
   "metadata": {},
   "source": [
    "Now, you can call `plot_data` to create a scatter plot of the data. Run the following cell to see the data."
   ]
  },
  {
   "cell_type": "code",
   "execution_count": 9,
   "metadata": {
    "scrolled": false
   },
   "outputs": [
    {
     "data": {
      "image/png": "[encoded data removed]",
      "text/plain": [
       "<Figure size 1440x960 with 1 Axes>"
      ]
     },
     "metadata": {
      "needs_background": "light"
     },
     "output_type": "display_data"
    }
   ],
   "source": [
    "plot_data(X, y)"
   ]
  },
  {
   "cell_type": "markdown",
   "metadata": {},
   "source": [
    "To learn more about the `scatter` command, you can type `help(plt.scatter)` in a new cell or to search online for plotting documentation. For example, to change the markers to red “x”, we used the options `c='r'` and `marker='x'` together with the scatter command."
   ]
  },
  {
   "cell_type": "code",
   "execution_count": 14,
   "metadata": {
    "scrolled": true
   },
   "outputs": [
    {
     "name": "stdout",
     "output_type": "stream",
     "text": [
      "Help on function scatter in module matplotlib.pyplot:\n",
      "\n",
      "scatter(x, y, s=None, c=None, marker=None, cmap=None, norm=None, vmin=None, vmax=None, alpha=None, linewidths=None, *, edgecolors=None, plotnonfinite=False, data=None, **kwargs)\n",
      "    A scatter plot of *y* vs. *x* with varying marker size and/or color.\n",
      "    \n",
      "    Parameters\n",
      "    ----------\n",
      "    x, y : float or array-like, shape (n, )\n",
      "        The data positions.\n",
      "    \n",
      "    s : float or array-like, shape (n, ), optional\n",
      "        The marker size in points**2.\n",
      "        Default is ``rcParams['lines.markersize'] ** 2``.\n",
      "    \n",
      "    c : array-like or list of colors or color, optional\n",
      "        The marker colors. Possible values:\n",
      "    \n",
      "        - A scalar or sequence of n numbers to be mapped to colors using\n",
      "          *cmap* and *norm*.\n",
      "        - A 2D array in which the rows are RGB or RGBA.\n",
      "        - A sequence of colors of length n.\n",
      "        - A single color format string.\n",
      "    \n",
      "        Note that *c* should not be a single numeric RGB or RGBA sequence\n",
      "        because that is indistinguishable from an array of values to be\n",
      "        colormapped. If you want to specify the same RGB or RGBA value for\n",
      "        all points, use a 2D array with a single row.  Otherwise, value-\n",
      "        matching will have precedence in case of a size matching with *x*\n",
      "        and *y*.\n",
      "    \n",
      "        If you wish to specify a single color for all points\n",
      "        prefer the *color* keyword argument.\n",
      "    \n",
      "        Defaults to `None`. In that case the marker color is determined\n",
      "        by the value of *color*, *facecolor* or *facecolors*. In case\n",
      "        those are not specified or `None`, the marker color is determined\n",
      "        by the next color of the ``Axes``' current \"shape and fill\" color\n",
      "        cycle. This cycle defaults to :rc:`axes.prop_cycle`.\n",
      "    \n",
      "    marker : `~.markers.MarkerStyle`, default: :rc:`scatter.marker`\n",
      "        The marker style. *marker* can be either an instance of the class\n",
      "        or the text shorthand for a particular marker.\n",
      "        See :mod:`matplotlib.markers` for more information about marker\n",
      "        styles.\n",
      "    \n",
      "    cmap : str or `~matplotlib.colors.Colormap`, default: :rc:`image.cmap`\n",
      "        A `.Colormap` instance or registered colormap name. *cmap* is only\n",
      "        used if *c* is an array of floats.\n",
      "    \n",
      "    norm : `~matplotlib.colors.Normalize`, default: None\n",
      "        If *c* is an array of floats, *norm* is used to scale the color\n",
      "        data, *c*, in the range 0 to 1, in order to map into the colormap\n",
      "        *cmap*.\n",
      "        If *None*, use the default `.colors.Normalize`.\n",
      "    \n",
      "    vmin, vmax : float, default: None\n",
      "        *vmin* and *vmax* are used in conjunction with the default norm to\n",
      "        map the color array *c* to the colormap *cmap*. If None, the\n",
      "        respective min and max of the color array is used.\n",
      "        It is deprecated to use *vmin*/*vmax* when *norm* is given.\n",
      "    \n",
      "    alpha : float, default: None\n",
      "        The alpha blending value, between 0 (transparent) and 1 (opaque).\n",
      "    \n",
      "    linewidths : float or array-like, default: :rc:`lines.linewidth`\n",
      "        The linewidth of the marker edges. Note: The default *edgecolors*\n",
      "        is 'face'. You may want to change this as well.\n",
      "    \n",
      "    edgecolors : {'face', 'none', *None*} or color or sequence of color, default: :rc:`scatter.edgecolors`\n",
      "        The edge color of the marker. Possible values:\n",
      "    \n",
      "        - 'face': The edge color will always be the same as the face color.\n",
      "        - 'none': No patch boundary will be drawn.\n",
      "        - A color or sequence of colors.\n",
      "    \n",
      "        For non-filled markers, *edgecolors* is ignored. Instead, the color\n",
      "        is determined like with 'face', i.e. from *c*, *colors*, or\n",
      "        *facecolors*.\n",
      "    \n",
      "    plotnonfinite : bool, default: False\n",
      "        Whether to plot points with nonfinite *c* (i.e. ``inf``, ``-inf``\n",
      "        or ``nan``). If ``True`` the points are drawn with the *bad*\n",
      "        colormap color (see `.Colormap.set_bad`).\n",
      "    \n",
      "    Returns\n",
      "    -------\n",
      "    `~matplotlib.collections.PathCollection`\n",
      "    \n",
      "    Other Parameters\n",
      "    ----------------\n",
      "    **kwargs : `~matplotlib.collections.Collection` properties\n",
      "    \n",
      "    See Also\n",
      "    --------\n",
      "    plot : To plot scatter plots when markers are identical in size and\n",
      "        color.\n",
      "    \n",
      "    Notes\n",
      "    -----\n",
      "    * The `.plot` function will be faster for scatterplots where markers\n",
      "      don't vary in size or color.\n",
      "    \n",
      "    * Any or all of *x*, *y*, *s*, and *c* may be masked arrays, in which\n",
      "      case all masks will be combined and only unmasked points will be\n",
      "      plotted.\n",
      "    \n",
      "    * Fundamentally, scatter works with 1D arrays; *x*, *y*, *s*, and *c*\n",
      "      may be input as N-D arrays, but within scatter they will be\n",
      "      flattened. The exception is *c*, which will be flattened only if its\n",
      "      size matches the size of *x* and *y*.\n",
      "    \n",
      "    .. note::\n",
      "        In addition to the above described arguments, this function can take\n",
      "        a *data* keyword argument. If such a *data* argument is given,\n",
      "        the following arguments can also be string ``s``, which is\n",
      "        interpreted as ``data[s]`` (unless this raises an exception):\n",
      "        *x*, *y*, *s*, *linewidths*, *edgecolors*, *c*, *facecolor*, *facecolors*, *color*.\n",
      "    \n",
      "        Objects passed as **data** must support item access (``data[s]``) and\n",
      "        membership test (``s in data``).\n",
      "\n"
     ]
    }
   ],
   "source": [
    "help(plt.scatter)"
   ]
  },
  {
   "cell_type": "markdown",
   "metadata": {},
   "source": [
    "### Gradient descent"
   ]
  },
  {
   "cell_type": "markdown",
   "metadata": {},
   "source": [
    "In this part, you will ﬁt the linear regression parameters $\\theta$ to our dataset using gradient descent.\n"
   ]
  },
  {
   "cell_type": "markdown",
   "metadata": {},
   "source": [
    "#### Update Equations"
   ]
  },
  {
   "cell_type": "markdown",
   "metadata": {},
   "source": [
    "The objective of linear regression is to minimize the **cost function** (here, MSE)\n",
    "$$J(\\theta) = \\frac{1}{2m} \\sum_{i=1}^{m} (h_\\theta(x^{(i)}) - y^{(i)})^2$$\n",
    "where the **hypothesis** $h_\\theta(x)$ is given by the linear model\n",
    "$$h_\\theta(x) = \\theta^T x = \\theta_0 + \\theta_1 x$$\n"
   ]
  },
  {
   "cell_type": "markdown",
   "metadata": {},
   "source": [
    "Recall that the parameters of your model are the $\\theta_j$ values. These are the values you will adjust to minimize cost $J(\\theta)$. One way to do this is to use the **full-batch gradient descent** algorithm. In full-batch gradient descent, each iteration performs the update\n",
    "$$\\theta_j = \\theta_j - \\alpha \\frac{1}{m} \\sum_{i=1}^{m} (h_\\theta(x^{(i)}) - y^{(i)}) x_{j}^{(i)}$$\n",
    "With each step of gradient descent, your parameters $\\theta_j$ come closer to the optimal values that will achieve the lowest cost $J(\\theta)$.\n"
   ]
  },
  {
   "cell_type": "markdown",
   "metadata": {},
   "source": [
    "<div class=\"alert alert-success\">\n",
    "    <strong>Implementation Note:</strong> We store each example as a row in the the $X$ matrix in python. To take into account the intercept term ($\\theta_0$), we add an additional first column to $X$ and set it to all ones. This allows us to treat $\\theta_0$ as simply another *feature*.\n",
    "</div>"
   ]
  },
  {
   "cell_type": "markdown",
   "metadata": {},
   "source": [
    "### Part 1-1: Implementation"
   ]
  },
  {
   "cell_type": "markdown",
   "metadata": {},
   "source": [
    "#### Hypothesis function"
   ]
  },
  {
   "cell_type": "markdown",
   "metadata": {},
   "source": [
    "First, let us implement the hypothesis function in linear regression. The following function `h` gets the input data `X` and the parameters as input and outputs predictions by a simple matrix multiplication. Note that the result is a 2d matrix (m-by-1)."
   ]
  },
  {
   "cell_type": "markdown",
   "metadata": {},
   "source": [
    " In the following lines, we add another dimension to our data to accommodate the $\\theta_0$ intercept term. We also initialize the initial parameters to 0 and the learning rate $\\alpha$ to 0.01."
   ]
  },
  {
   "cell_type": "code",
   "execution_count": 10,
   "metadata": {},
   "outputs": [],
   "source": [
    "def h(X,theta):\n",
    "    \"\"\"\n",
    "    Hypothesis function for linear regression.\n",
    "    \n",
    "    Arguments:\n",
    "        - X: Input matrix, a 2d array of shape (m, n+1)\n",
    "        - theta: parameters, a 2d array of shape (n+1, 1)\n",
    "        \n",
    "    Output:\n",
    "        - Predictions for input data (m-by-1)\n",
    "    \"\"\"\n",
    "    return X@theta"
   ]
  },
  {
   "cell_type": "markdown",
   "metadata": {},
   "source": [
    "Note that in the above code, the first satatement is used to add a column of ones to the left of the input matrix `X`. This is another way to conacatinate matrices in `numpy`. Of course, you could use the `np.concatinate()` or the `np.hstack()` which we saw in the class. Here, I have used `np.c_[]`, because it's a common way for matrix concatination in `numpy` and you will see it a lot in the codes which are available online."
   ]
  },
  {
   "cell_type": "markdown",
   "metadata": {},
   "source": [
    "#### Computing the cost function"
   ]
  },
  {
   "cell_type": "markdown",
   "metadata": {},
   "source": [
    "As you perform gradient descent to learn minimize the cost function J(θ), it is helpful to monitor the convergence by computing the cost. In this section, you will implement a function to calculate J(θ) so you can check the convergence of your gradient descent implementation. \n",
    "\n",
    "Your next task is to complete the code in the `compute_cost()` function, which is a function that computes J(θ). As you are doing this, remember that the variables `X` and `y` are not scalar values, but matrices whose rows represent the examples from the training set. "
   ]
  },
  {
   "cell_type": "markdown",
   "metadata": {},
   "source": [
    "<div class=\"alert alert-danger\">\n",
    "    <strong>Imortant Note:</strong> Notice that your implementation must be at most 3 or 4 lines of code and you are not allowed to use loops anywhere in your code. Instead, you should rely on vectorized computations that *numpy* provides for you.\n",
    "        </ul>\n",
    "</div>"
   ]
  },
  {
   "cell_type": "markdown",
   "metadata": {},
   "source": [
    "Note: Because the function is not implemented yet, we have included an exception statement which states \"You should implement this function.\". To implement the function, you should remove this line and replace it by your code."
   ]
  },
  {
   "cell_type": "code",
   "execution_count": 24,
   "metadata": {},
   "outputs": [
    {
     "name": "stdout",
     "output_type": "stream",
     "text": [
      "48.5\n",
      "0.005154639175257732\n"
     ]
    }
   ],
   "source": [
    "m = X.shape[0]\n",
    "X = np.c_[np.ones((m, 1)), X]  # concatinating a column of 1s\n",
    "# X_New = np.array([np.ones(len(X)), X.flatten()]).T\n",
    "# ones = pd.DataFrame(np.ones((m, 1)), columns=['ones'])\n",
    "# X = pd.concat([ones, X], axis=1)\n",
    "\n",
    "theta = np.zeros((2, 1))                # initialize parameters to 0\n",
    "alpha = 0.01                            # learning rate\n",
    "num_iterations = 1500\n",
    "\n",
    "print((1/2*m))\n",
    "print((1/(2*m)))"
   ]
  },
  {
   "cell_type": "code",
   "execution_count": 25,
   "metadata": {},
   "outputs": [
    {
     "data": {
      "text/plain": [
       "(97, 2)"
      ]
     },
     "execution_count": 25,
     "metadata": {},
     "output_type": "execute_result"
    }
   ],
   "source": [
    "X.shape"
   ]
  },
  {
   "cell_type": "code",
   "execution_count": 26,
   "metadata": {},
   "outputs": [],
   "source": [
    "def compute_cost(X, y, theta):\n",
    "    \"\"\" Vectorized implementation of MSE cost function.\n",
    "    \n",
    "    Arguments:\n",
    "        - X: Inputs, a 2d array of shape (m, n + 1)\n",
    "        - y: Target values, a 2d array of shape (m, 1)\n",
    "        - theta: Parameters, a 2d array of shape (n + 1, 1)\n",
    "        \n",
    "    Outputs:\n",
    "        - the mean squared error value\n",
    "    \"\"\"\n",
    "    theta = np.zeros((2, 1), dtype=float)  \n",
    "\n",
    "    J = (1/(2*m))*np.transpose((h(X, theta)-y))@(h(X, theta)-y)\n",
    "    return(J)\n",
    "    raise NotImplementedError('You should implement compute_cost function')"
   ]
  },
  {
   "cell_type": "markdown",
   "metadata": {},
   "source": [
    "Once you have completed the function, the next step will run `compute_cost()` once using θ initialized to zeros, and you will see the cost printed to the screen. You should expect to see a cost of `32.07`."
   ]
  },
  {
   "cell_type": "code",
   "execution_count": 27,
   "metadata": {},
   "outputs": [
    {
     "name": "stdout",
     "output_type": "stream",
     "text": [
      "J([0, 0]) = 32.07\n"
     ]
    }
   ],
   "source": [
    "print('J([0, 0]) = %.2f' % compute_cost(X, y, theta))"
   ]
  },
  {
   "cell_type": "markdown",
   "metadata": {
    "collapsed": true
   },
   "source": [
    "#### Gradient descent"
   ]
  },
  {
   "cell_type": "markdown",
   "metadata": {},
   "source": [
    "Now, it is time to implement gradient descent algorithm. An unvectorized implementation of full-batch gradient descent algorithm is already written for you. The unvectorized implementation is correct and works fine for the purpose of this assignment. \n",
    "\n",
    "But keep in mind that always use a **vectorized implementation** for real world problems, because the vectorized implementation is *much faster* and also *much simpler* comparing to the unvectorized implementation."
   ]
  },
  {
   "cell_type": "code",
   "execution_count": 28,
   "metadata": {},
   "outputs": [],
   "source": [
    "def gradient_descent_unvectorized(X, y, theta, alpha, num_iterations):\n",
    "    \"\"\" Unvectorized implementation of full-batch gradient descent.\n",
    "    \n",
    "    Arguments:\n",
    "        - X: Inputs, a 2d array of shape (m, n + 1)\n",
    "        - y: Target values, a 2d array of shape (m, 1)\n",
    "        - theta: Initial guess for parameters, a 2d array of shape (n + 1, 1)\n",
    "        - alpha: Learning rate (or step size) in G.D. algorithm\n",
    "        - num_iterations: Maximum number of iterations in G.D. algorithm\n",
    "        \n",
    "    Outputs:\n",
    "        - theta: the final value of parameters after learning\n",
    "    \"\"\"\n",
    "    m, n = X.shape\n",
    "    \n",
    "    for iteration in range(num_iterations):\n",
    "        \n",
    "        # compute cost for current value of paremetrs\n",
    "        cost = compute_cost(X, y, theta)\n",
    "        \n",
    "        # print cost every 100 iterations\n",
    "        if iteration % 100 == 0:\n",
    "            print('%4d: J(%s) = %.2f' %(iteration, theta.ravel(), cost))\n",
    "        \n",
    "        # compute gradients\n",
    "        grads = np.zeros_like(theta)\n",
    "        \n",
    "        for j in range(n):\n",
    "            for i in range(m):\n",
    "                term = h(X[i], theta) - y[i]\n",
    "                grads[j] += X[i, j] * term\n",
    "        \n",
    "        # update parameters\n",
    "        for j in range(n):\n",
    "            theta[j] = theta[j] - (alpha / m) * grads[j]  \n",
    "            \n",
    "    return theta"
   ]
  },
  {
   "cell_type": "markdown",
   "metadata": {},
   "source": [
    "Now, let us run the unvectorized implementation of the full-batch gradient descent algorithm to see some results. Run the following cell to see the results."
   ]
  },
  {
   "cell_type": "code",
   "execution_count": 30,
   "metadata": {},
   "outputs": [
    {
     "name": "stdout",
     "output_type": "stream",
     "text": [
      "   0: J([ 0.1  -1.07]) = 32.07\n",
      " 100: J([-0.4   0.84]) = 32.07\n",
      " 200: J([-0.98  0.9 ]) = 32.07\n",
      " 300: J([-1.46  0.95]) = 32.07\n",
      " 400: J([-1.86  0.99]) = 32.07\n",
      " 500: J([-2.2   1.02]) = 32.07\n",
      " 600: J([-2.48  1.05]) = 32.07\n",
      " 700: J([-2.71  1.07]) = 32.07\n",
      " 800: J([-2.91  1.09]) = 32.07\n",
      " 900: J([-3.07  1.11]) = 32.07\n",
      "1000: J([-3.21  1.12]) = 32.07\n",
      "1100: J([-3.32  1.14]) = 32.07\n",
      "1200: J([-3.42  1.14]) = 32.07\n",
      "1300: J([-3.49  1.15]) = 32.07\n",
      "1400: J([-3.56  1.16]) = 32.07\n",
      "1500: J([-3.62  1.16]) = 32.07\n",
      "1600: J([-3.66  1.17]) = 32.07\n",
      "1700: J([-3.7   1.17]) = 32.07\n",
      "1800: J([-3.73  1.18]) = 32.07\n",
      "1900: J([-3.76  1.18]) = 32.07\n",
      "2000: J([-3.78  1.18]) = 32.07\n"
     ]
    }
   ],
   "source": [
    "# load data\n",
    "X, y = load_data('data/ex1data1.txt')\n",
    "\n",
    "# add the column of ones to the X\n",
    "X = np.c_[np.ones((X.shape[0], 1)), X]\n",
    "\n",
    "# run gradient descent algorithm\n",
    "theta = np.random.randn(2, 1)\n",
    "alpha = 0.01\n",
    "num_iterations = 2001\n",
    "theta = gradient_descent_unvectorized(X, y, theta, alpha, num_iterations)"
   ]
  },
  {
   "cell_type": "markdown",
   "metadata": {},
   "source": [
    "<div class=\"alert alert-success\">\n",
    "    <strong>Verification of Gradient Descent: </strong>  A good way to verify that gradient descent is working correctly is to look at the value of J(θ) and check that it is decreasing with each step. Assuming you have implemented the compute_cost() function correctly, your value of J(θ) should never increase, and should converge to a steady value by the end of the algorithm.\n",
    "</div>"
   ]
  },
  {
   "cell_type": "markdown",
   "metadata": {},
   "source": [
    "#### Gradient descent: vectorized implementation"
   ]
  },
  {
   "cell_type": "markdown",
   "metadata": {},
   "source": [
    "Now, your task is to implement the vectorized version of the full-batch gradient descent algorithm by inspiring the unvectorized version we provided for you. Complete the following function named `gradient_descent()` to finish the task. Not that a correct implementation must be 5 or 6 lines of code at most.\n",
    "\n",
    "As you program, make sure you understand what you are trying to optimize and what is being updated. Keep in mind that the cost J(θ) is parameterized by the vector θ, not X and y. That is, we minimize the value of J(θ) by changing the values of the vector θ, not by changing X or y. Refer to the equations in this handout and to the video lectures if you are uncertain. "
   ]
  },
  {
   "cell_type": "code",
   "execution_count": 88,
   "metadata": {},
   "outputs": [
    {
     "data": {
      "text/plain": [
       "array([[-3.79],\n",
       "       [ 1.18]])"
      ]
     },
     "execution_count": 88,
     "metadata": {},
     "output_type": "execute_result"
    }
   ],
   "source": [
    "def gradient_descent(X, y, theta, alpha, num_iterations):\n",
    "    \"\"\" A vectorized implementation of full-batch gradient descent.\n",
    "    \n",
    "    Arguments:\n",
    "        - X: Inputs, a 2d array of shape (m, n + 1)\n",
    "        - y: Target values, a 2d array of shape (m, 1)\n",
    "        - theta: Initial guess for parameters, a 2d array of shape (n + 1, 1)\n",
    "        - alpha: Learning rate (or step size) in G.D. algorithm\n",
    "        - num_iterations: Maximum number of iterations in G.D. algorithm\n",
    "        \n",
    "    Outputs:\n",
    "        - theta: the final value of parameters after learning\n",
    "    \"\"\"\n",
    "    theta = np.zeros((2, 1),dtype = float) \n",
    "    cost_hist = np.zeros(num_iterations)\n",
    "    j_history = []\n",
    "    m = len(X)\n",
    "    # Computing the cost and theta in iterations\n",
    "    for i in range(num_iterations):    \n",
    "        \n",
    "        Grad = X.T@((X@theta - y))\n",
    "        theta = theta - (alpha/m)*(Grad)\n",
    "        cost_hist[i] = compute_cost(X, y, theta)\n",
    "        j_history.append(compute_cost(X, y, theta)[0])\n",
    "\n",
    "#     plt.scatter(X[:,1].reshape(-1,1), y, c = \"red\")\n",
    "#     plt.plot(X[:,1].reshape(-1,1), X@theta, c =\"blue\")\n",
    "#     plt.xlabel(\"Population of city in 10,000\")\n",
    "#     plt.ylabel(\"Profit in $10,000s\")   \n",
    "#     plt.title(\"Profit vs. Population\")\n",
    "#     plt.show()\n",
    "    \n",
    "#     plt.plot(np.arange(num_iterations),cost_hist)\n",
    "    return theta\n",
    "\n",
    "    raise NotImplementedError('You should implement gradient_descent function.')\n",
    "gradient_descent(X, y, theta, alpha, num_iterations)"
   ]
  },
  {
   "cell_type": "markdown",
   "metadata": {},
   "source": [
    "After you are finished, use your final parameters to plot the linear fit. The result should look something like this:"
   ]
  },
  {
   "cell_type": "markdown",
   "metadata": {},
   "source": [
    "<img src='imgs/linear_regression_result_for_restaurant_dataset.png' width='70%'>"
   ]
  },
  {
   "cell_type": "code",
   "execution_count": 89,
   "metadata": {},
   "outputs": [],
   "source": [
    "# ##Predition\n",
    "# theta = gradient_descent(X, y, theta, alpha, num_iterations)\n",
    "# np.array([1, 3.5]).dot(theta)"
   ]
  },
  {
   "cell_type": "markdown",
   "metadata": {
    "collapsed": true
   },
   "source": [
    "Your ﬁnal values for θ will also be used to make predictions on profits in areas of 35,000 and 70,000 people. Note the way that the following lines uses matrix multiplication, rather than explicit summation or looping, to calculate the predictions. This is an example of **code vectorization** in Python.\n"
   ]
  },
  {
   "cell_type": "code",
   "execution_count": 90,
   "metadata": {},
   "outputs": [],
   "source": [
    "def part2_1():\n",
    "    # load and prepare data\n",
    "    X, y = load_data('data/ex1data1.txt')\n",
    "    X = np.c_[np.ones((X.shape[0], 1)), X]\n",
    "    \n",
    "    # initialization\n",
    "    theta = np.zeros((2, 1))\n",
    "    alpha = 0.01\n",
    "    num_iterations = 1500\n",
    "    \n",
    "    # print cost for initial value of parameters\n",
    "    cost = compute_cost(X, y, theta)  # should be 32.07\n",
    "    print(\"Cost = %.2f\" % cost)\n",
    "    \n",
    "    # run gradient descent\n",
    "    new_theta = gradient_descent(X, y, theta, alpha, num_iterations)\n",
    "    \n",
    "    # print the final value of parameters after running G.D.\n",
    "    print(\"theta = %s\" % new_theta.ravel())\n",
    "    \n",
    "    # predict for two different inputs\n",
    "    prediction1 = np.array([1, 3.5]).dot(new_theta)\n",
    "    prediction2 = np.array([1, 7.0]).dot(new_theta)\n",
    "    print(\"Prediction for 3.5 is: %.2f\" % prediction1)\n",
    "    print(\"Prediction for 7.0 is: %.2f\" % prediction2)\n",
    "    \n",
    "    # plot data and the fit\n",
    "    plot_data(X[:, 1], y)\n",
    "    plt.plot(X[:, 1], X @ new_theta, 'k-')\n",
    "    plt.show()\n"
   ]
  },
  {
   "cell_type": "code",
   "execution_count": 91,
   "metadata": {},
   "outputs": [
    {
     "name": "stdout",
     "output_type": "stream",
     "text": [
      "Cost = 32.07\n",
      "theta = [-3.63  1.17]\n",
      "Prediction for 3.5 is: 0.45\n",
      "Prediction for 7.0 is: 4.53\n"
     ]
    },
    {
     "data": {
      "image/png": "[encoded data removed]",
      "text/plain": [
       "<Figure size 1440x960 with 1 Axes>"
      ]
     },
     "metadata": {
      "needs_background": "light"
     },
     "output_type": "display_data"
    }
   ],
   "source": [
    "part2_1()"
   ]
  },
  {
   "cell_type": "markdown",
   "metadata": {},
   "source": [
    "<div class=\"alert alert-danger\">\n",
    "    <strong>Debugging:</strong> Here are some things to keep in mind as you implement gradient descent:\n",
    "        <ul>\n",
    "            <li>Python array indices start from zero, not one. If you’re storing θ0 and θ1 in a vector called theta, the values will be theta[0] and theta[1].</li>\n",
    "            <li>If you are seeing many errors at runtime, inspect your matrix operations to make sure that you’re adding and multiplying matrices of compatible dimensions. Printing the dimensions of variables with the *shape* command will help you debug.</li>\n",
    "            <li>By default, Python interprets math operators to be element-wise operators. This is a common source of size incompatibility errors. If you want matrix multiplication, you need to use the `@` operator to specify this to Python. For example, `A * B` does an element-wise matrix multiplication, while `A @ B` does a normal matrix multiplication.</li>\n",
    "        </ul>\n",
    "</div>"
   ]
  },
  {
   "cell_type": "markdown",
   "metadata": {},
   "source": [
    "### Part 1-2: Visualizing $J(\\theta)$"
   ]
  },
  {
   "cell_type": "markdown",
   "metadata": {},
   "source": [
    "To understand the cost function J(θ) better, you will now plot the cost over a 2-dimensional grid of θ0 and θ1 values. You will not need to code anything new for this part, but you should understand how the code you have written already is creating these images. In the next step, there is code set up to calculate J(θ) over a grid of values using the `compute_cost()` function that you wrote."
   ]
  },
  {
   "cell_type": "code",
   "execution_count": 158,
   "metadata": {},
   "outputs": [],
   "source": [
    "def part1_2():\n",
    "    # load and prepare data\n",
    "    X, y = load_data(\"data/ex1data1.txt\")\n",
    "    X = np.c_[np.ones((X.shape[0], 1)), X]\n",
    "\n",
    "    # compute cost function for a range of different values for parameters\n",
    "    theta0_vals = np.linspace(-20, 20, 100)\n",
    "    theta1_vals = np.linspace(-6, 6, 100)\n",
    "\n",
    "    J_vals = np.zeros((len(theta0_vals), len(theta1_vals)), dtype=np.float64)\n",
    "    for i, v0 in enumerate(theta0_vals):\n",
    "        for j, v1 in enumerate(theta1_vals):\n",
    "            theta = np.array((theta0_vals[i], theta1_vals[j])).reshape(2, 1)\n",
    "            J_vals[i, j] = compute_cost(X, y, theta)\n",
    "\n",
    "    T0, T1 = np.meshgrid(theta0_vals, theta1_vals)\n",
    "\n",
    "    # plot cost function\n",
    "    fig = plt.figure(figsize=(8, 6))\n",
    "    ax = fig.gca(projection='3d')\n",
    "    ax.plot_surface(T0, T1, J_vals, cmap=plt.cm.rainbow)\n",
    "    plt.show()\n",
    "\n",
    "    # run gradient descent to find optimal theta\n",
    "    theta = gradient_descent(X, y, theta, alpha=0.02, num_iterations=1500)\n",
    "\n",
    "    # plot contours of cost function and the final value of parameters\n",
    "    fig = plt.figure(figsize=(8, 6))\n",
    "    plt.contour(T0, T1, J_vals.T, np.logspace(-2, 3, 20), cmap=plt.cm.rainbow)\n",
    "    plt.plot(theta[0], theta[1], 'rx', markersize=10)\n",
    "    plt.show()"
   ]
  },
  {
   "cell_type": "code",
   "execution_count": 159,
   "metadata": {
    "scrolled": false
   },
   "outputs": [
    {
     "name": "stderr",
     "output_type": "stream",
     "text": [
      "<ipython-input-158-0a5da177cf2b>:20: MatplotlibDeprecationWarning: Calling gca() with keyword arguments was deprecated in Matplotlib 3.4. Starting two minor releases later, gca() will take no keyword arguments. The gca() function should only be used to get the current axes, or if no axes exist, create new axes with default keyword arguments. To create a new axes with non-default arguments, use plt.axes() or plt.subplot().\n",
      "  ax = fig.gca(projection='3d')\n"
     ]
    },
    {
     "data": {
      "image/png": "[encoded data removed]",
      "text/plain": [
       "<Figure size 576x432 with 1 Axes>"
      ]
     },
     "metadata": {
      "needs_background": "light"
     },
     "output_type": "display_data"
    },
    {
     "name": "stderr",
     "output_type": "stream",
     "text": [
      "<ipython-input-158-0a5da177cf2b>:29: UserWarning: No contour levels were found within the data range.\n",
      "  plt.contour(T0, T1, J_vals.T, np.logspace(-2, 3, 20), cmap=plt.cm.rainbow)\n"
     ]
    },
    {
     "data": {
      "image/png": "[encoded data removed]",
      "text/plain": [
       "<Figure size 576x432 with 1 Axes>"
      ]
     },
     "metadata": {
      "needs_background": "light"
     },
     "output_type": "display_data"
    }
   ],
   "source": [
    "part1_2()"
   ]
  },
  {
   "cell_type": "markdown",
   "metadata": {},
   "source": [
    "The purpose of these graphs is to show you that how J(θ) varies with changes in θ0 and θ1. The cost function J(θ) is bowl-shaped and has a global mininum. (This is easier to see in the contour plot than in the 3D surface plot). This minimum is the optimal point for θ0 and θ1, and each step of gradient descent moves closer to this point."
   ]
  },
  {
   "cell_type": "markdown",
   "metadata": {},
   "source": [
    "# Method: Plotting and Prediction Through Scikit Learn"
   ]
  },
  {
   "cell_type": "code",
   "execution_count": 151,
   "metadata": {},
   "outputs": [],
   "source": [
    "x_min, x_max = X[:,1].ravel().min(), X[:,1].ravel().max()\n",
    "xs = [x_min, x_max]"
   ]
  },
  {
   "cell_type": "code",
   "execution_count": 152,
   "metadata": {},
   "outputs": [
    {
     "data": {
      "image/png": "[encoded data removed]",
      "text/plain": [
       "<Figure size 432x288 with 1 Axes>"
      ]
     },
     "metadata": {
      "needs_background": "light"
     },
     "output_type": "display_data"
    }
   ],
   "source": [
    "y_Grad = [np.dot([1, x_min], theta)[0], np.dot([1, x_max], theta)[0]]\n",
    "plt.scatter(X[:,1], y, c=\"r\")\n",
    "plt.plot(xs, y_Grad, c=\"b\")\n",
    "plt.title(\"Linear regression plot through Gradient Descent\");"
   ]
  },
  {
   "cell_type": "code",
   "execution_count": 137,
   "metadata": {},
   "outputs": [
    {
     "data": {
      "image/png": "[encoded data removed]",
      "text/plain": [
       "<Figure size 432x288 with 1 Axes>"
      ]
     },
     "metadata": {
      "needs_background": "light"
     },
     "output_type": "display_data"
    }
   ],
   "source": [
    "regressor = LinearRegression()\n",
    "regressor.fit(X,y)\n",
    "x_min, x_max = X[:,1].ravel().min(), X[:,1].ravel().max()\n",
    "xs = [x_min, x_max]\n",
    "# ys = [regressor.predict(x_min)]\n",
    "ys = [regressor.predict(np.array([[1, x_min]]))[0][0], regressor.predict(np.array([[1, x_max]]))[0][0]]\n",
    "plt.title(\"Linear regression plot through sklearn\")\n",
    "plt.scatter(X[:,1], y, c=\"r\")\n",
    "plt.plot(xs, ys, c=\"b\");"
   ]
  },
  {
   "cell_type": "markdown",
   "metadata": {},
   "source": [
    "We can see from the above that both plots are the same for both sklearn and Gradient Descents"
   ]
  },
  {
   "cell_type": "markdown",
   "metadata": {
    "collapsed": true
   },
   "source": [
    "## Part 2: Multi-variable Linear Regression"
   ]
  },
  {
   "cell_type": "markdown",
   "metadata": {},
   "source": [
    "In this part, you will implement linear regression with multiple variables to predict the prices of houses. Suppose you are selling your house and you want to know what a good market price would be. One way to do this is to first collect information on recent houses sold and make a model of housing prices."
   ]
  },
  {
   "cell_type": "markdown",
   "metadata": {},
   "source": [
    "### Dataset"
   ]
  },
  {
   "cell_type": "markdown",
   "metadata": {},
   "source": [
    "The file `data/ex1data2.txt` contains a training set of housing prices in Portland, Oregon. The first column is the size of the house (in square feet), the second column is the number of bedrooms, and the third column is the price of the house."
   ]
  },
  {
   "cell_type": "markdown",
   "metadata": {},
   "source": [
    "<img src='imgs/house_dataset.png' width='50%'>"
   ]
  },
  {
   "cell_type": "markdown",
   "metadata": {},
   "source": [
    "### Part 2-1: Feature normalization"
   ]
  },
  {
   "cell_type": "markdown",
   "metadata": {},
   "source": [
    "By looking at the dataset for this part, note that house sizes are about 1000 times the number of bedrooms. When features differ by orders of magnitude, first performing feature scaling can make gradient descent converge much more quickly."
   ]
  },
  {
   "cell_type": "markdown",
   "metadata": {},
   "source": [
    "Your task here is to complete the code in `feature_normalize()` function to:\n",
    "- Subtract the **mean** value of each feature from the dataset.\n",
    "- After subtracting the mean, additionally scale (divide) the feature values by their respective **standard deviations**."
   ]
  },
  {
   "cell_type": "code",
   "execution_count": 162,
   "metadata": {},
   "outputs": [],
   "source": [
    "def feature_normalize(X):\n",
    "    \"\"\"A vectorized implementation of feature normalization.\n",
    "    \n",
    "    Arguments:\n",
    "        - X: The raw input features, a 2d array of shape (m, n)\n",
    "        \n",
    "    Outputs:\n",
    "        - X_norm: The normalized version of the input matrix\n",
    "        - mu: The mean of the features\n",
    "        - sigma: The std dev of the features \n",
    "    \"\"\"\n",
    "    mu = X.mean()\n",
    "    sigma = X.std()\n",
    "    X_norm = (X - mu)/(sigma)\n",
    "    \n",
    "    return X_norm, mu, sigma\n",
    "\n",
    "    raise NotImplementedError(\"You should implement feature_normalize function.\")\n",
    "    \n",
    "# X_norm, mu, sigma = feature_normalize(X)"
   ]
  },
  {
   "cell_type": "markdown",
   "metadata": {},
   "source": [
    "The standard deviation is a way of measuring how much variation there is in the range of values of a particular feature (most data points will lie within ±2 standard deviations of the mean); this is an alternative to taking the range of values (max-min). \n",
    "\n",
    "In Python, you can use the `std` function from `numpy` to compute the standard deviation and the `mean` function to compute the mean. For example, inside `feature_normalize()`, the quantity `X[:, 0]` contains all the values of x1 (house sizes) in the training set, so `np.std(X[:, 0])` computes the standard deviation of the house sizes. \n",
    "\n",
    "**Note:** At the time that `feature_normalize()` is called, the extra column of 1’s corresponding to x0 = 1 has not yet been added to X. \n",
    "\n",
    "You will do this for all the features and your code should work with datasets of all sizes (any number of features / examples). Note that each column of the matrix X corresponds to one feature. "
   ]
  },
  {
   "cell_type": "markdown",
   "metadata": {},
   "source": [
    "<div class=\"alert alert-success\">\n",
    "    <strong>Implementation Note:</strong> When normalizing the features, it is important to store the values used for normalization - the *mean* value and the *standard deviation* used for the computations. After learning the parameters from the model, we often want to predict the prices of houses we have not seen before. Given a new x value (living room area and number of bedrooms), we must first normalize x using the mean and standard deviation that we had previously computed from the training set.\n",
    "</div>"
   ]
  },
  {
   "cell_type": "markdown",
   "metadata": {},
   "source": [
    "After you finished with writting the `feature_normalize()` function, you can run the following two cells to see the noramalized features (only for first five inputs) and the mean value and the standard deviation for the two input features."
   ]
  },
  {
   "cell_type": "code",
   "execution_count": 186,
   "metadata": {},
   "outputs": [
    {
     "data": {
      "text/plain": [
       "(47, 2)"
      ]
     },
     "execution_count": 186,
     "metadata": {},
     "output_type": "execute_result"
    }
   ],
   "source": [
    "X, y = load_data(\"data/ex1data2.txt\")\n",
    "X.shape"
   ]
  },
  {
   "cell_type": "code",
   "execution_count": 189,
   "metadata": {},
   "outputs": [],
   "source": [
    "def part2_1():\n",
    "    \n",
    "    # load data as 2d matrices\n",
    "    X, y = load_data(\"data/ex1data2.txt\")\n",
    "\n",
    "    # feature normalization\n",
    "    X_norm, mu, sigma = feature_normalize(X)\n",
    "    \n",
    "    # display the results\n",
    "    print(\"Matrix X after normalization:\")\n",
    "    print(X_norm[:5, :])\n",
    "    \n",
    "    print(\"mean = %s \" % mu)\n",
    "    print(\"std dev = %s\" % sigma)\n",
    "    return X_norm, mu, sigma"
   ]
  },
  {
   "cell_type": "code",
   "execution_count": 191,
   "metadata": {},
   "outputs": [
    {
     "name": "stdout",
     "output_type": "stream",
     "text": [
      "Matrix X after normalization:\n",
      "[[ 0.96 -0.87]\n",
      " [ 0.52 -0.87]\n",
      " [ 1.22 -0.87]\n",
      " [ 0.36 -0.87]\n",
      " [ 1.75 -0.87]]\n",
      "mean = 1001.9255319148937 \n",
      "std dev = 1143.0528202028345\n",
      "Matrix X after normalization:\n",
      "[[ 0.96 -0.87]\n",
      " [ 0.52 -0.87]\n",
      " [ 1.22 -0.87]\n",
      " [ 0.36 -0.87]\n",
      " [ 1.75 -0.87]]\n",
      "mean = 1001.9255319148937 \n",
      "std dev = 1143.0528202028345\n"
     ]
    },
    {
     "data": {
      "text/plain": [
       "(array([[ 9.64e-01, -8.74e-01],\n",
       "        [ 5.23e-01, -8.74e-01],\n",
       "        [ 1.22e+00, -8.74e-01],\n",
       "        [ 3.62e-01, -8.75e-01],\n",
       "        [ 1.75e+00, -8.73e-01],\n",
       "        [ 8.60e-01, -8.73e-01],\n",
       "        [ 4.65e-01, -8.74e-01],\n",
       "        [ 3.72e-01, -8.74e-01],\n",
       "        [ 3.31e-01, -8.74e-01],\n",
       "        [ 4.30e-01, -8.74e-01],\n",
       "        [ 8.21e-01, -8.73e-01],\n",
       "        [ 8.73e-01, -8.74e-01],\n",
       "        [ 7.77e-01, -8.74e-01],\n",
       "        [ 3.04e+00, -8.72e-01],\n",
       "        [ 2.33e-01, -8.74e-01],\n",
       "        [ 1.14e+00, -8.73e-01],\n",
       "        [ 2.78e-01, -8.75e-01],\n",
       "        [ 2.05e-01, -8.74e-01],\n",
       "        [ 1.41e+00, -8.73e-01],\n",
       "        [ 1.78e+00, -8.73e-01],\n",
       "        [ 6.69e-01, -8.74e-01],\n",
       "        [ 7.75e-01, -8.75e-01],\n",
       "        [ 5.27e-01, -8.74e-01],\n",
       "        [ 8.40e-01, -8.73e-01],\n",
       "        [ 2.53e+00, -8.74e-01],\n",
       "        [ 8.58e-02, -8.74e-01],\n",
       "        [ 3.99e-01, -8.74e-01],\n",
       "        [ 1.33e+00, -8.74e-01],\n",
       "        [ 1.05e+00, -8.74e-01],\n",
       "        [ 1.43e+00, -8.74e-01],\n",
       "        [ 7.32e-01, -8.75e-01],\n",
       "        [-1.68e-03, -8.76e-01],\n",
       "        [ 9.08e-01, -8.73e-01],\n",
       "        [ 1.87e+00, -8.74e-01],\n",
       "        [ 7.08e-01, -8.73e-01],\n",
       "        [ 3.81e-01, -8.74e-01],\n",
       "        [ 2.07e-01, -8.74e-01],\n",
       "        [ 9.89e-01, -8.73e-01],\n",
       "        [ 2.81e+00, -8.73e-01],\n",
       "        [ 1.01e+00, -8.73e-01],\n",
       "        [ 5.79e-01, -8.75e-01],\n",
       "        [ 1.08e+00, -8.74e-01],\n",
       "        [ 1.37e+00, -8.73e-01],\n",
       "        [ 1.73e-01, -8.74e-01],\n",
       "        [-1.31e-01, -8.75e-01],\n",
       "        [ 7.44e-01, -8.73e-01],\n",
       "        [ 1.76e-01, -8.74e-01]]),\n",
       " 1001.9255319148937,\n",
       " 1143.0528202028345)"
      ]
     },
     "execution_count": 191,
     "metadata": {},
     "output_type": "execute_result"
    }
   ],
   "source": [
    "X_norm, mu, sigma = part2_1()\n",
    "part2_1()"
   ]
  },
  {
   "cell_type": "markdown",
   "metadata": {},
   "source": [
    "### Part 2-2: Gradient Descent"
   ]
  },
  {
   "cell_type": "markdown",
   "metadata": {},
   "source": [
    "Previously, you implemented gradient descent on a univariate regression problem. The only diﬀerence now is that there is one more feature in the matrix X. The hypothesis function and the batch gradient descent update rule remain unchanged. \n",
    "\n",
    "You should complete the code in `compute_cost_multi()` and `gradient_descent_multi()` to implement the cost function and gradient descent for linear regression with multiple variables. If your code in the previous part (single variable) already supports multiple variables, you can use it here too. \n",
    "\n",
    "Make sure your code supports any number of features and is well-vectorized. You can use `X.shape[1]` to ﬁnd out how many features are present in the dataset.\n"
   ]
  },
  {
   "cell_type": "code",
   "execution_count": 192,
   "metadata": {},
   "outputs": [
    {
     "name": "stdout",
     "output_type": "stream",
     "text": [
      "(47, 3) (47, 1)\n"
     ]
    }
   ],
   "source": [
    "m, n = X.shape[0], X.shape[1]\n",
    "\n",
    "X = np.c_[np.ones((m, 1)), X_norm]\n",
    "\n",
    "\n",
    "print(X.shape, y.shape)\n",
    "\n",
    "theta = np.zeros((3,1))\n",
    "num_iterations = 400\n",
    "alpha = 0.01"
   ]
  },
  {
   "cell_type": "code",
   "execution_count": 194,
   "metadata": {},
   "outputs": [
    {
     "data": {
      "text/plain": [
       "array([[6.56e+10]])"
      ]
     },
     "execution_count": 194,
     "metadata": {},
     "output_type": "execute_result"
    }
   ],
   "source": [
    "def compute_cost_multi(X, y, theta):\n",
    "    \"\"\" A vectorized implementation of MSE cost function\n",
    "    \n",
    "    Arguments:\n",
    "        - X: Inputs, a 2d array of shape (m, n + 1)\n",
    "        - y: Target values, a 2d array of shape (m, 1)\n",
    "        - theta: Parameters, a 2d array of shape (n + 1, 1)\n",
    "        \n",
    "    Outputs:\n",
    "        - the mean squared error value\n",
    "    \"\"\"\n",
    "   \n",
    "    return 1/(2*m)*(np.transpose(X@theta-y)@(X@theta-y))\n",
    "   \n",
    "    raise NotImplementedError('You should implement compute_cost_multi function.')\n",
    "compute_cost_multi(X, y, theta)"
   ]
  },
  {
   "cell_type": "code",
   "execution_count": 196,
   "metadata": {},
   "outputs": [],
   "source": [
    "# def computeCost(X, y, theta):\n",
    "#     m = y.shape[0]\n",
    "#     h_theta = np.matmul(X, theta)\n",
    "#     error = h_theta - y\n",
    "#     error_square = np.matmul(error.T, error)\n",
    "#     J = error_square / (2*m)\n",
    "    \n",
    "#     return J\n",
    "\n",
    "# computeCost(X, y, theta)"
   ]
  },
  {
   "cell_type": "markdown",
   "metadata": {},
   "source": [
    "# Very important for numpy array, list and dict"
   ]
  },
  {
   "cell_type": "code",
   "execution_count": 50,
   "metadata": {},
   "outputs": [],
   "source": [
    "# cc = np.zeros(7)\n",
    "# # print(cc)\n",
    "# cc[1] = 7\n",
    "# cc[2] = 8\n",
    "# print(cc)\n",
    "# lst = [\"jj\", \"hh\"]\n",
    "# lst[0]=\"ZAhra\"\n",
    "# print(lst)\n",
    "# mm ={\"gh\":56, \"ki\": 65}\n",
    "# mm[\"ki\"] = 72\n",
    "# theta"
   ]
  },
  {
   "cell_type": "code",
   "execution_count": 198,
   "metadata": {},
   "outputs": [
    {
     "data": {
      "text/plain": [
       "array([[ 117739.05],\n",
       "       [ 152298.64],\n",
       "       [-102872.88]])"
      ]
     },
     "execution_count": 198,
     "metadata": {},
     "output_type": "execute_result"
    }
   ],
   "source": [
    "# def gradientDescent(X, y, theta, alpha, num_iters):\n",
    "    \n",
    "#     # Initialize some useful values\n",
    "#     m = y.shape[0] # number of training examples\n",
    "#     J_history = np.zeros((num_iters, 1))\n",
    "#     cost_history = []\n",
    "# #     y = y.reshape(-1,1)\n",
    "    \n",
    "#     for i in range(num_iters):\n",
    "# #         print(theta)\n",
    "#         h_theta = np.dot(X, theta)\n",
    "# #         print(h_theta)\n",
    "#         error = h_theta - y.reshape(-1,1)\n",
    "# #         print(error)\n",
    "#         Grad = alpha * np.dot(X.T, error) / m\n",
    "# #         print(Grad)\n",
    "#         theta = theta - Grad\n",
    "# #         print(theta)\n",
    "# #         print(computeCost(X, y, theta))##list inside the list# that is why we put the zero iside it\n",
    "#         cost_history.append(computeCost(X, y, theta)[0])\n",
    "#         J_history[i] = computeCost(X, y, theta)\n",
    "# #         print(cost_history)\n",
    "\n",
    "#     return (theta, J_history, cost_history)\n",
    "# theta, cost_history, J_history = gradientDescent(X, y, theta, alpha, num_iterations)\n",
    "# theta\n",
    "# gradientDescent(X, y, theta, alpha, num_iterations)"
   ]
  },
  {
   "cell_type": "code",
   "execution_count": 200,
   "metadata": {},
   "outputs": [],
   "source": [
    "# plt.plot(cost_history);\n",
    "# plt.plot(np.arange(400), cost_history, 'r')"
   ]
  },
  {
   "cell_type": "code",
   "execution_count": 213,
   "metadata": {},
   "outputs": [],
   "source": [
    "\n",
    "def gradient_descent_multi(X, y, theta, alpha, num_iterations):\n",
    "    \"\"\" A vectorized implementation of full-batch gradient descent.\n",
    "    \n",
    "    Arguments:\n",
    "        - X: Inputs, a 2d array of shape (m, n + 1)\n",
    "        - y: Target values, a 2d array of shape (m, 1)\n",
    "        - theta: Initial guess for parameters, a 2d array of shape (n + 1, 1)\n",
    "        - alpha: Learning rate (or step size) in G.D. algorithm\n",
    "        - num_iterations: Maximum number of iterations in G.D. algorithm\n",
    "        \n",
    "    Outputs:\n",
    "        - J_history: a list of computed costs during G.D. algorithm\n",
    "        - theta: the final value of parameters after learning\n",
    "    \"\"\"\n",
    "    m = y.shape[0]\n",
    "    J_history = []\n",
    "#     Grad = (X.T)@(X@theta-y)\n",
    "    theta_lst = []\n",
    "    cost_history = np.zeros((num_iterations,1))\n",
    "\n",
    "    \n",
    "    for i in range(num_iterations):\n",
    "        Grad = (1/m) * ((X.T)@(X@theta-y.reshape(-1,1)))\n",
    "        theta = theta - (alpha)*(Grad)\n",
    "#         print(theta)\n",
    "#         predictions = X.dot(theta)\n",
    "#         error = np.dot(X.transpose(),(predictions -y))\n",
    "#         descent=alpha * 1/m * error\n",
    "#         theta-=descent\n",
    "        J_history.append(compute_cost_multi(X, y, theta)[0])\n",
    "        cost_history[i] = compute_cost_multi(X, y, theta)\n",
    "    \n",
    "    return J_history, theta\n",
    "    \n",
    "    raise NotImplementedError('You should implement gradient_descent_multi function.')\n"
   ]
  },
  {
   "cell_type": "code",
   "execution_count": 214,
   "metadata": {},
   "outputs": [
    {
     "name": "stdout",
     "output_type": "stream",
     "text": [
      "theta = [ 119999.48  148539.39 -104839.48]\n"
     ]
    },
    {
     "data": {
      "image/png": "[encoded data removed]",
      "text/plain": [
       "<Figure size 432x288 with 1 Axes>"
      ]
     },
     "metadata": {
      "needs_background": "light"
     },
     "output_type": "display_data"
    }
   ],
   "source": [
    "def part2_2():\n",
    "    \n",
    "    # load data\n",
    "    X, y = load_data('data/ex1data2.txt')\n",
    "    \n",
    "    # normalize features\n",
    "    X, mu, sigma = feature_normalize(X)\n",
    "    \n",
    "    # add a column of ones to X\n",
    "    X = np.c_[np.ones((X.shape[0], 1)), X]\n",
    "    \n",
    "    # run gradient descent algorithm\n",
    "    num_iterations = 400\n",
    "    alpha = 0.01\n",
    "    theta = np.random.randn(3, 1)\n",
    "    J_history, theta = gradient_descent_multi(X, y, theta, alpha, num_iterations)\n",
    "    \n",
    "    # print the final value of parameters\n",
    "    print('theta = %s' % theta.ravel())\n",
    "    \n",
    "    # plot cost versus iteration\n",
    "    plt.plot(J_history)\n",
    "    plt.title(\"Alpha = %f\" % (alpha))\n",
    "    plt.xlabel('Number of iterations')\n",
    "    plt.ylabel('Cost J')\n",
    "    plt.show()\n",
    "part2_2()\n"
   ]
  },
  {
   "cell_type": "markdown",
   "metadata": {},
   "source": [
    "<div class=\"alert alert-success\">\n",
    "    <strong>Implementation Note:</strong>  In the multivariate case, the cost function can also be written in the following vectorized form:\n",
    "    $$J(\\theta)=\\frac{1}{2m}(X \\theta - y)^T (X \\theta - y)$$\n",
    "    \n",
    "    The vectorized version is efficient when you’re working with numerical computing tools like NumPy. If you are an expert with matrix operations, you can prove to yourself that the two forms are equivalent.\n",
    "\n",
    "</div>"
   ]
  },
  {
   "cell_type": "markdown",
   "metadata": {},
   "source": [
    "Run the following two cells to see the result of your implementation."
   ]
  },
  {
   "cell_type": "code",
   "execution_count": 231,
   "metadata": {},
   "outputs": [],
   "source": [
    "# J_history"
   ]
  },
  {
   "cell_type": "code",
   "execution_count": 72,
   "metadata": {},
   "outputs": [],
   "source": [
    "# j_val = []\n",
    "# teta_lst=[]\n",
    "# for t in newtheta:\n",
    "#     a = 0.5*np.sum(((t*X) - y)**2)\n",
    "#     j_val.append(a)\n",
    "#     teta_lst.append(t)\n",
    "\n",
    "# print(len(j_val))\n",
    "# # len(teta_lst)\n",
    "# plt.plot(j_val, teta_lst );"
   ]
  },
  {
   "cell_type": "markdown",
   "metadata": {},
   "source": [
    "### Part 2-3: Selecting learning rate"
   ]
  },
  {
   "cell_type": "markdown",
   "metadata": {},
   "source": [
    "In this part of the exercise, you will get to try out diﬀerent learning rates for the dataset and find a learning rate that converges quickly. You can change the learning rate by modifying and changing the part of the code that sets the learning rate. \n",
    "\n",
    "The next phase will call your `gradient_descent()` function and run gradient descent for about 50 iterations at the chosen learning rate. The function should also return the history of J(θ) values in a vector J. After the last iteration, the script plots the J values against the number of the iterations. \n",
    "\n",
    "If you picked a learning rate within a good range, your plot look similar Figure 4. If your graph looks very different, especially if your value of J(θ) increases or even blows up, adjust your learning rate and try again. We recommend trying values of the learning rate α on a log-scale, at multiplicative steps of about 3 times the previous value (i.e., 0.3, 0.1, 0.03, 0.01 and so on). You may also want to adjust the number of iterations you are running if that will help you see the overall trend in the curve. To finish this task, just assign a list of candidate learning rates to the variable `alphas` in the following code. You do not need to change any other part of the code.\n"
   ]
  },
  {
   "cell_type": "markdown",
   "metadata": {},
   "source": [
    "Notice the changes in the convergence curves as the learning rate changes. With a small learning rate, you should find that gradient descent takes a very long time to converge to the optimal value. Conversely, with a large learning rate, gradient descent might not converge or might even diverge! Using the best learning rate that you found, run gradient descent until convergence to find the final values of θ."
   ]
  },
  {
   "cell_type": "markdown",
   "metadata": {},
   "source": [
    "Next, use this value of θ to predict the price of a house with 1650 square feet and 3 bedrooms. You will use value later to check your implementation of the normal equations. Don’t forget to normalize your features when you make this prediction!"
   ]
  },
  {
   "cell_type": "code",
   "execution_count": 224,
   "metadata": {},
   "outputs": [],
   "source": [
    "def part2_3():\n",
    "    \n",
    "    ### load and prepare data\n",
    "    X, y = load_data(\"data/ex1data2.txt\")\n",
    "    \n",
    "    # normalize features\n",
    "    X, mu, sigma = feature_normalize(X)\n",
    "\n",
    "    # add a column of ones to X\n",
    "    X = np.c_[np.ones((X.shape[0], 1)), X]\n",
    "    \n",
    "    ### run gradient descent algorithm for a list of different learning rates\n",
    "    num_iterations = 400\n",
    "    \n",
    "    alphas = [] ### your code here ###\n",
    "\n",
    "    # for each alpha, try to do gradient descent and plot the convergence curve\n",
    "    for alpha in alphas:\n",
    "        theta = np.zeros((3, 1))\n",
    "        J_history, theta = gradient_descent_multi(X, y, theta, alpha, num_iterations)\n",
    "\n",
    "        # plot cost versus iteration\n",
    "        plt.plot(J_history)\n",
    "        plt.title(\"Alpha = %f\" % (alpha))\n",
    "        plt.xlabel('Number of iterations')\n",
    "        plt.ylabel('Cost J')\n",
    "        plt.xlim([0, 50])\n",
    "        plt.show()\n",
    "        \n",
    "part2_3()"
   ]
  },
  {
   "cell_type": "code",
   "execution_count": 251,
   "metadata": {},
   "outputs": [],
   "source": [
    "from matplotlib.pyplot import cm"
   ]
  },
  {
   "cell_type": "code",
   "execution_count": 269,
   "metadata": {},
   "outputs": [],
   "source": [
    "def part2_3():\n",
    "    \n",
    "    ### load and prepare data\n",
    "    X, y = load_data(\"data/ex1data2.txt\")\n",
    "    \n",
    "    # normalize features\n",
    "    X, mu, sigma = feature_normalize(X)\n",
    "\n",
    "    # add a column of ones to X\n",
    "    X = np.c_[np.ones((X.shape[0], 1)), X]\n",
    "    \n",
    "    ### run gradient descent algorithm for a list of different learning rates\n",
    "    num_iterations = 400\n",
    "    \n",
    "#     alphas = [] ### your code here ###\n",
    "    alphas = [0.3, 0.1, 0.03, 0.01, 0.003, 0.001]\n",
    "    # for each alpha, try to do gradient descent and plot the convergence curve\n",
    "    colours = \"rgbcym\"\n",
    "#     colors = cm.rainbow(np.linspace(0,1,len(alphas)))\n",
    "    for alpha, c in zip(alphas, colors):\n",
    "        theta = np.zeros((3, 1))\n",
    "        J_history, theta = gradient_descent_multi(X, y, theta, alpha, num_iterations)\n",
    "\n",
    "        # plot cost versus iteration\n",
    "        plt.plot(J_history, label = alpha, color = c)\n",
    "        plt.title(\"Alpha = %f\" % (alpha))\n",
    "        plt.xlabel('Number of iterations')\n",
    "        plt.ylabel('Cost J')\n",
    "        plt.xlim([0, 50])\n",
    "        plt.legend(bbox_to_anchor=(1.05, 1.0))\n",
    "        plt.show()\n",
    "\n",
    "        ## predict price for a 1650 sq feet 3 bedroom house\n",
    "        x_test = np.array([1.0, 1650.0, 3.0])\n",
    "        # exclude intercept units when normalizing\n",
    "        x_test[1:] = (x_test[1:] - mu) / sigma\n",
    "        prediction = x_test @ theta\n",
    "        print('Predicted price = %.2f' % prediction[0])\n"
   ]
  },
  {
   "cell_type": "code",
   "execution_count": 272,
   "metadata": {},
   "outputs": [
    {
     "data": {
      "image/png": "[encoded data removed]",
      "text/plain": [
       "<Figure size 432x288 with 1 Axes>"
      ]
     },
     "metadata": {
      "needs_background": "light"
     },
     "output_type": "display_data"
    },
    {
     "name": "stdout",
     "output_type": "stream",
     "text": [
      "Predicted price = 293237.91\n"
     ]
    },
    {
     "data": {
      "image/png": "[encoded data removed]",
      "text/plain": [
       "<Figure size 432x288 with 1 Axes>"
      ]
     },
     "metadata": {
      "needs_background": "light"
     },
     "output_type": "display_data"
    },
    {
     "name": "stdout",
     "output_type": "stream",
     "text": [
      "Predicted price = 293237.94\n"
     ]
    },
    {
     "data": {
      "image/png": "[encoded data removed]",
      "text/plain": [
       "<Figure size 432x288 with 1 Axes>"
      ]
     },
     "metadata": {
      "needs_background": "light"
     },
     "output_type": "display_data"
    },
    {
     "name": "stdout",
     "output_type": "stream",
     "text": [
      "Predicted price = 293452.11\n"
     ]
    },
    {
     "data": {
      "image/png": "[encoded data removed]",
      "text/plain": [
       "<Figure size 432x288 with 1 Axes>"
      ]
     },
     "metadata": {
      "needs_background": "light"
     },
     "output_type": "display_data"
    },
    {
     "name": "stdout",
     "output_type": "stream",
     "text": [
      "Predicted price = 295836.72\n"
     ]
    },
    {
     "data": {
      "image/png": "[encoded data removed]",
      "text/plain": [
       "<Figure size 432x288 with 1 Axes>"
      ]
     },
     "metadata": {
      "needs_background": "light"
     },
     "output_type": "display_data"
    },
    {
     "name": "stdout",
     "output_type": "stream",
     "text": [
      "Predicted price = 287628.77\n"
     ]
    },
    {
     "data": {
      "image/png": "[encoded data removed]",
      "text/plain": [
       "<Figure size 432x288 with 1 Axes>"
      ]
     },
     "metadata": {
      "needs_background": "light"
     },
     "output_type": "display_data"
    },
    {
     "name": "stdout",
     "output_type": "stream",
     "text": [
      "Predicted price = 198288.87\n"
     ]
    }
   ],
   "source": [
    "part2_3()"
   ]
  },
  {
   "cell_type": "code",
   "execution_count": 276,
   "metadata": {},
   "outputs": [],
   "source": [
    "\n",
    "J_history_1, theta_1 = gradient_descent_multi(X, y, theta, 0.3, 400)\n",
    "J_history_2 ,theta_2 = gradient_descent_multi(X, y, theta, 0.1, 400)\n",
    "J_history_3,theta_3 = gradient_descent_multi(X, y, theta, 0.03, 400)\n",
    "J_history_4,theta_4 = gradient_descent_multi(X, y, theta, 0.01, 400)\n",
    "J_history_5,theta_5 = gradient_descent_multi(X, y, theta, 0.003, 400)\n",
    "J_history_6,theta_6 = gradient_descent_multi(X, y, theta, 0.001, 400)"
   ]
  },
  {
   "cell_type": "code",
   "execution_count": 277,
   "metadata": {},
   "outputs": [
    {
     "data": {
      "text/plain": [
       "Text(0.5, 1.0, 'Different learning rates')"
      ]
     },
     "execution_count": 277,
     "metadata": {},
     "output_type": "execute_result"
    },
    {
     "data": {
      "image/png": "[encoded data removed]",
      "text/plain": [
       "<Figure size 432x288 with 1 Axes>"
      ]
     },
     "metadata": {
      "needs_background": "light"
     },
     "output_type": "display_data"
    }
   ],
   "source": [
    "plt.plot(J_history_1, label= \"0.3\")\n",
    "plt.plot(J_history_2, label=\"0.1\")\n",
    "plt.plot(J_history_3, label=\"0.03\")\n",
    "plt.plot(J_history_4, label=\"0.01\")\n",
    "plt.plot(J_history_5, label=\"0.003\")\n",
    "plt.plot(J_history_6, label=\"0.001\")\n",
    "plt.legend(bbox_to_anchor=(1.05, 1.0))\n",
    "plt.title(\"Different learning rates\")"
   ]
  },
  {
   "cell_type": "markdown",
   "metadata": {},
   "source": [
    "## Part 3: Normal Equation"
   ]
  },
  {
   "cell_type": "markdown",
   "metadata": {},
   "source": [
    "In the lecture videos, you learned that the closed-form solution to linear regression is\n",
    "$$\\theta = (X^T X)^{-1} X^T y$$"
   ]
  },
  {
   "cell_type": "markdown",
   "metadata": {},
   "source": [
    "Using this formula does not require any feature scaling, and you will get an exact solution in one calculation: there is no “loop until convergence” like in gradient descent. \n",
    "\n",
    "Complete the code in `normal_equation()` to use the formula above to calculate θ. Remember that while you don’t need to scale your features, we still need to add a column of 1’s to the X matrix to have an intercept term (θ0).\n"
   ]
  },
  {
   "cell_type": "code",
   "execution_count": 225,
   "metadata": {},
   "outputs": [],
   "source": [
    "from numpy.linalg import pinv"
   ]
  },
  {
   "cell_type": "code",
   "execution_count": 228,
   "metadata": {
    "scrolled": true
   },
   "outputs": [
    {
     "data": {
      "text/plain": [
       "array([[-8525767.83],\n",
       "       [  159125.15],\n",
       "       [-9988017.41]])"
      ]
     },
     "execution_count": 228,
     "metadata": {},
     "output_type": "execute_result"
    }
   ],
   "source": [
    "def normal_equation(X, y):\n",
    "    theta = np.linalg.pinv(X.T@X)@(X.T)@y\n",
    "    return theta\n",
    "    raise NotImplementedError('You should implement normal_equation function.')\n",
    "normal_equation(X, y)"
   ]
  },
  {
   "cell_type": "markdown",
   "metadata": {},
   "source": [
    "Now, once you have found θ using this method, use it to make a price prediction for a 1650-square-foot house with 3 bedrooms. You should ﬁnd that gives the same predicted price as the value you obtained using the model fit with gradient descent."
   ]
  },
  {
   "cell_type": "code",
   "execution_count": 229,
   "metadata": {},
   "outputs": [],
   "source": [
    "def part3():\n",
    "    \n",
    "    # load and prepare data\n",
    "    X, y = load_data(\"data/ex1data2.txt\")\n",
    "    X = np.c_[np.ones((X.shape[0], 1)), X] # add intercept to X\n",
    "\n",
    "    # find theta using normal equation\n",
    "    theta = normal_equation(X, y)\n",
    "    \n",
    "    # predict price for a 1650 sq feet 3 bedroom house\n",
    "    x_test = np.array([1.0, 1650.0, 3.0])\n",
    "    prediction = x_test @ theta\n",
    "    print('Predicted price = %.2f' % prediction[0])"
   ]
  },
  {
   "cell_type": "code",
   "execution_count": 230,
   "metadata": {},
   "outputs": [
    {
     "name": "stdout",
     "output_type": "stream",
     "text": [
      "Predicted price = 293081.46\n"
     ]
    }
   ],
   "source": [
    "part3()"
   ]
  },
  {
   "cell_type": "markdown",
   "metadata": {},
   "source": [
    "## Submittion"
   ]
  },
  {
   "cell_type": "markdown",
   "metadata": {},
   "source": [
    "After finishing the assignment, please send **only** this jupyter notebook file via Piazza as a **private** post before the due date. Before submitting your file, be sure to read the following terms and conditions.\n",
    "\n",
    "**Due date**: November, 2, 2018."
   ]
  },
  {
   "cell_type": "markdown",
   "metadata": {},
   "source": [
    "### Terms and Conditions\n",
    "Please consider the following terms and conditions and take them as serious as you can:\n",
    "- If you send your code as a public code in Piazza, you will fail in the course.\n",
    "- If you share all or some parts of your results on the internet or with your friends and classmates in any form, you will fail the course.\n",
    "- If you submit codes that is not your work, (for example by copying your friend's codes), you will fail the course.\n",
    "- Any other attempt to cheat, will result in a failure in the course.\n",
    "- By submmiting this file to Piazza, you confirm that you have read and accepted the above terms and conditions."
   ]
  }
 ],
 "metadata": {
  "kernelspec": {
   "display_name": "Python 3",
   "language": "python",
   "name": "python3"
  },
  "language_info": {
   "codemirror_mode": {
    "name": "ipython",
    "version": 3
   },
   "file_extension": ".py",
   "mimetype": "text/x-python",
   "name": "python",
   "nbconvert_exporter": "python",
   "pygments_lexer": "ipython3",
   "version": "3.9.6"
  }
 },
 "nbformat": 4,
 "nbformat_minor": 2
}
